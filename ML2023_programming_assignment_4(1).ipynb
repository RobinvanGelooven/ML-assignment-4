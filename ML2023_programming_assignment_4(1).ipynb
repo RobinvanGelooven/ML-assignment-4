{
 "cells": [
  {
   "cell_type": "markdown",
   "metadata": {
    "id": "OMSxpJAkqYzk"
   },
   "source": [
    "# Assignment 4: Explainability\n",
    "\n",
    "*Part of the course:\n",
    "Machine Learning (code: INFOB3ML), fall 2023, Utrecht University*\n",
    "\n",
    "Total points: 10 (100%)\n",
    "\n",
    "Deadline: Friday 3 November, 23:59\n",
    "\n",
    "**Write your names and student numbers here: _ Robin van Gelooven (1745743), Loes Pieterse (8293988)__**\n",
    "\n",
    "Submit one ipynb file per pair.\n",
    "\n",
    "**Before you submit, click Kernel > Restart & Run All to make sure you submit a working version of your code!**\n",
    "\n"
   ]
  },
  {
   "cell_type": "markdown",
   "metadata": {
    "id": "moyaViIx8WzS"
   },
   "source": [
    "## Installation\n",
    "\n",
    "For this assignment, we are going to use the following Python packages:\n",
    "\n",
    "matplotlib, pandas, statsmodels, interpret, scikit-learn, openpyxl and graphviz"
   ]
  },
  {
   "cell_type": "code",
   "execution_count": 1,
   "metadata": {
    "id": "6EaC6P7RqXOh"
   },
   "outputs": [
    {
     "name": "stdout",
     "output_type": "stream",
     "text": [
      "Collecting graphviz\n",
      "  Downloading graphviz-0.20.1-py3-none-any.whl (47 kB)\n",
      "\u001b[2K     \u001b[90m━━━━━━━━━━━━━━━━━━━━━━━━━━━━━━━━━━━━━━━━\u001b[0m \u001b[32m47.0/47.0 kB\u001b[0m \u001b[31m1.0 MB/s\u001b[0m eta \u001b[36m0:00:00\u001b[0ma \u001b[36m0:00:01\u001b[0m\n",
      "\u001b[?25hInstalling collected packages: graphviz\n",
      "Successfully installed graphviz-0.20.1\n",
      "Requirement already satisfied: matplotlib in /Users/loespieterse/anaconda3/lib/python3.10/site-packages (3.7.0)\n",
      "Requirement already satisfied: pandas in /Users/loespieterse/anaconda3/lib/python3.10/site-packages (1.5.3)\n",
      "Requirement already satisfied: numpy in /Users/loespieterse/anaconda3/lib/python3.10/site-packages (1.23.5)\n",
      "Requirement already satisfied: statsmodels in /Users/loespieterse/anaconda3/lib/python3.10/site-packages (0.13.5)\n",
      "Collecting interpret\n",
      "  Downloading interpret-0.4.4-py3-none-any.whl (1.4 kB)\n",
      "Requirement already satisfied: scikit-learn in /Users/loespieterse/anaconda3/lib/python3.10/site-packages (1.2.1)\n",
      "Requirement already satisfied: openpyxl in /Users/loespieterse/anaconda3/lib/python3.10/site-packages (3.0.10)\n",
      "Requirement already satisfied: fonttools>=4.22.0 in /Users/loespieterse/anaconda3/lib/python3.10/site-packages (from matplotlib) (4.25.0)\n",
      "Requirement already satisfied: pillow>=6.2.0 in /Users/loespieterse/anaconda3/lib/python3.10/site-packages (from matplotlib) (9.4.0)\n",
      "Requirement already satisfied: python-dateutil>=2.7 in /Users/loespieterse/anaconda3/lib/python3.10/site-packages (from matplotlib) (2.8.2)\n",
      "Requirement already satisfied: cycler>=0.10 in /Users/loespieterse/anaconda3/lib/python3.10/site-packages (from matplotlib) (0.11.0)\n",
      "Requirement already satisfied: contourpy>=1.0.1 in /Users/loespieterse/anaconda3/lib/python3.10/site-packages (from matplotlib) (1.0.5)\n",
      "Requirement already satisfied: pyparsing>=2.3.1 in /Users/loespieterse/anaconda3/lib/python3.10/site-packages (from matplotlib) (3.0.9)\n",
      "Requirement already satisfied: kiwisolver>=1.0.1 in /Users/loespieterse/anaconda3/lib/python3.10/site-packages (from matplotlib) (1.4.4)\n",
      "Requirement already satisfied: packaging>=20.0 in /Users/loespieterse/anaconda3/lib/python3.10/site-packages (from matplotlib) (22.0)\n",
      "Requirement already satisfied: pytz>=2020.1 in /Users/loespieterse/anaconda3/lib/python3.10/site-packages (from pandas) (2022.7)\n",
      "Requirement already satisfied: patsy>=0.5.2 in /Users/loespieterse/anaconda3/lib/python3.10/site-packages (from statsmodels) (0.5.3)\n",
      "Requirement already satisfied: scipy>=1.3 in /Users/loespieterse/anaconda3/lib/python3.10/site-packages (from statsmodels) (1.10.0)\n",
      "Collecting interpret-core[dash,debug,decisiontree,ebm,lime,linear,notebook,plotly,required,sensitivity,shap,skoperules,treeinterpreter]==0.4.4\n",
      "  Downloading interpret_core-0.4.4-py3-none-any.whl (16.9 MB)\n",
      "\u001b[2K     \u001b[90m━━━━━━━━━━━━━━━━━━━━━━━━━━━━━━━━━━━━━━━━\u001b[0m \u001b[32m16.9/16.9 MB\u001b[0m \u001b[31m47.4 MB/s\u001b[0m eta \u001b[36m0:00:00\u001b[0m00:01\u001b[0m00:01\u001b[0m\n",
      "\u001b[?25hCollecting SALib>=1.3.3\n",
      "  Downloading salib-1.4.7-py3-none-any.whl (757 kB)\n",
      "\u001b[2K     \u001b[90m━━━━━━━━━━━━━━━━━━━━━━━━━━━━━━━━━━━━━━\u001b[0m \u001b[32m758.0/758.0 kB\u001b[0m \u001b[31m22.5 MB/s\u001b[0m eta \u001b[36m0:00:00\u001b[0m\n",
      "\u001b[?25hRequirement already satisfied: plotly>=3.8.1 in /Users/loespieterse/anaconda3/lib/python3.10/site-packages (from interpret-core[dash,debug,decisiontree,ebm,lime,linear,notebook,plotly,required,sensitivity,shap,skoperules,treeinterpreter]==0.4.4->interpret) (5.9.0)\n",
      "Requirement already satisfied: joblib>=0.11 in /Users/loespieterse/anaconda3/lib/python3.10/site-packages (from interpret-core[dash,debug,decisiontree,ebm,lime,linear,notebook,plotly,required,sensitivity,shap,skoperules,treeinterpreter]==0.4.4->interpret) (1.1.1)\n",
      "Requirement already satisfied: ipython>=5.5.0 in /Users/loespieterse/anaconda3/lib/python3.10/site-packages (from interpret-core[dash,debug,decisiontree,ebm,lime,linear,notebook,plotly,required,sensitivity,shap,skoperules,treeinterpreter]==0.4.4->interpret) (8.12.0)\n",
      "Requirement already satisfied: ipykernel>=4.10.0 in /Users/loespieterse/anaconda3/lib/python3.10/site-packages (from interpret-core[dash,debug,decisiontree,ebm,lime,linear,notebook,plotly,required,sensitivity,shap,skoperules,treeinterpreter]==0.4.4->interpret) (6.19.2)\n",
      "Collecting lime>=0.1.1.33\n",
      "  Downloading lime-0.2.0.1.tar.gz (275 kB)\n",
      "\u001b[2K     \u001b[90m━━━━━━━━━━━━━━━━━━━━━━━━━━━━━━━━━━━━━━\u001b[0m \u001b[32m275.7/275.7 kB\u001b[0m \u001b[31m10.4 MB/s\u001b[0m eta \u001b[36m0:00:00\u001b[0m\n",
      "\u001b[?25h  Preparing metadata (setup.py) ... \u001b[?25ldone\n",
      "\u001b[?25hRequirement already satisfied: requests>=2.19.0 in /Users/loespieterse/anaconda3/lib/python3.10/site-packages (from interpret-core[dash,debug,decisiontree,ebm,lime,linear,notebook,plotly,required,sensitivity,shap,skoperules,treeinterpreter]==0.4.4->interpret) (2.28.1)\n",
      "Collecting dash-core-components>=1.0.0\n",
      "  Downloading dash_core_components-2.0.0-py3-none-any.whl (3.8 kB)\n",
      "Collecting dash>=1.0.0\n",
      "  Downloading dash-2.14.1-py3-none-any.whl (10.4 MB)\n",
      "\u001b[2K     \u001b[90m━━━━━━━━━━━━━━━━━━━━━━━━━━━━━━━━━━━━━━━━\u001b[0m \u001b[32m10.4/10.4 MB\u001b[0m \u001b[31m35.6 MB/s\u001b[0m eta \u001b[36m0:00:00\u001b[0m00:01\u001b[0m0:01\u001b[0m\n",
      "\u001b[?25hCollecting dash-cytoscape>=0.1.1\n",
      "  Downloading dash_cytoscape-0.3.0-py3-none-any.whl (3.6 MB)\n",
      "\u001b[2K     \u001b[90m━━━━━━━━━━━━━━━━━━━━━━━━━━━━━━━━━━━━━━━━\u001b[0m \u001b[32m3.6/3.6 MB\u001b[0m \u001b[31m31.6 MB/s\u001b[0m eta \u001b[36m0:00:00\u001b[0ma \u001b[36m0:00:01\u001b[0m\n",
      "\u001b[?25hCollecting gevent>=1.3.6\n",
      "  Downloading gevent-23.9.1.tar.gz (5.8 MB)\n",
      "\u001b[2K     \u001b[90m━━━━━━━━━━━━━━━━━━━━━━━━━━━━━━━━━━━━━━━━\u001b[0m \u001b[32m5.8/5.8 MB\u001b[0m \u001b[31m42.5 MB/s\u001b[0m eta \u001b[36m0:00:00\u001b[0ma \u001b[36m0:00:01\u001b[0m\n",
      "\u001b[?25h  Installing build dependencies ... \u001b[?25ldone\n",
      "\u001b[?25h  Getting requirements to build wheel ... \u001b[?25ldone\n",
      "\u001b[?25h  Installing backend dependencies ... \u001b[?25ldone\n",
      "\u001b[?25h  Preparing metadata (pyproject.toml) ... \u001b[?25ldone\n",
      "\u001b[?25hCollecting dash-table>=4.1.0\n",
      "  Downloading dash_table-5.0.0-py3-none-any.whl (3.9 kB)\n",
      "Collecting dash-html-components>=1.0.0\n",
      "  Downloading dash_html_components-2.0.0-py3-none-any.whl (4.1 kB)\n",
      "Collecting treeinterpreter>=0.2.2\n",
      "  Downloading treeinterpreter-0.2.3-py2.py3-none-any.whl (6.0 kB)\n",
      "Collecting shap>=0.28.5\n",
      "  Downloading shap-0.43.0-cp310-cp310-macosx_10_9_x86_64.whl (450 kB)\n",
      "\u001b[2K     \u001b[90m━━━━━━━━━━━━━━━━━━━━━━━━━━━━━━━━━━━━━━\u001b[0m \u001b[32m450.3/450.3 kB\u001b[0m \u001b[31m16.1 MB/s\u001b[0m eta \u001b[36m0:00:00\u001b[0m\n",
      "\u001b[?25hRequirement already satisfied: dill>=0.2.5 in /Users/loespieterse/anaconda3/lib/python3.10/site-packages (from interpret-core[dash,debug,decisiontree,ebm,lime,linear,notebook,plotly,required,sensitivity,shap,skoperules,treeinterpreter]==0.4.4->interpret) (0.3.6)\n",
      "Collecting skope-rules>=1.0.1\n",
      "  Downloading skope_rules-1.0.1-py3-none-any.whl (14 kB)\n",
      "Requirement already satisfied: psutil>=5.6.2 in /Users/loespieterse/anaconda3/lib/python3.10/site-packages (from interpret-core[dash,debug,decisiontree,ebm,lime,linear,notebook,plotly,required,sensitivity,shap,skoperules,treeinterpreter]==0.4.4->interpret) (5.9.0)\n",
      "Requirement already satisfied: threadpoolctl>=2.0.0 in /Users/loespieterse/anaconda3/lib/python3.10/site-packages (from scikit-learn) (2.2.0)\n",
      "Requirement already satisfied: et_xmlfile in /Users/loespieterse/anaconda3/lib/python3.10/site-packages (from openpyxl) (1.1.0)\n",
      "Requirement already satisfied: six in /Users/loespieterse/anaconda3/lib/python3.10/site-packages (from patsy>=0.5.2->statsmodels) (1.16.0)\n",
      "Requirement already satisfied: typing-extensions>=4.1.1 in /Users/loespieterse/anaconda3/lib/python3.10/site-packages (from dash>=1.0.0->interpret-core[dash,debug,decisiontree,ebm,lime,linear,notebook,plotly,required,sensitivity,shap,skoperules,treeinterpreter]==0.4.4->interpret) (4.4.0)\n",
      "Requirement already satisfied: setuptools in /Users/loespieterse/anaconda3/lib/python3.10/site-packages (from dash>=1.0.0->interpret-core[dash,debug,decisiontree,ebm,lime,linear,notebook,plotly,required,sensitivity,shap,skoperules,treeinterpreter]==0.4.4->interpret) (65.6.3)\n",
      "Requirement already satisfied: nest-asyncio in /Users/loespieterse/anaconda3/lib/python3.10/site-packages (from dash>=1.0.0->interpret-core[dash,debug,decisiontree,ebm,lime,linear,notebook,plotly,required,sensitivity,shap,skoperules,treeinterpreter]==0.4.4->interpret) (1.5.6)\n",
      "Collecting retrying\n",
      "  Downloading retrying-1.3.4-py3-none-any.whl (11 kB)\n",
      "Collecting ansi2html\n",
      "  Downloading ansi2html-1.8.0-py3-none-any.whl (16 kB)\n",
      "Requirement already satisfied: Flask<3.1,>=1.0.4 in /Users/loespieterse/anaconda3/lib/python3.10/site-packages (from dash>=1.0.0->interpret-core[dash,debug,decisiontree,ebm,lime,linear,notebook,plotly,required,sensitivity,shap,skoperules,treeinterpreter]==0.4.4->interpret) (2.2.2)\n",
      "Requirement already satisfied: Werkzeug<3.1 in /Users/loespieterse/anaconda3/lib/python3.10/site-packages (from dash>=1.0.0->interpret-core[dash,debug,decisiontree,ebm,lime,linear,notebook,plotly,required,sensitivity,shap,skoperules,treeinterpreter]==0.4.4->interpret) (2.2.2)\n",
      "Requirement already satisfied: importlib-metadata in /Users/loespieterse/anaconda3/lib/python3.10/site-packages (from dash>=1.0.0->interpret-core[dash,debug,decisiontree,ebm,lime,linear,notebook,plotly,required,sensitivity,shap,skoperules,treeinterpreter]==0.4.4->interpret) (4.11.3)\n",
      "Requirement already satisfied: greenlet>=2.0.0 in /Users/loespieterse/anaconda3/lib/python3.10/site-packages (from gevent>=1.3.6->interpret-core[dash,debug,decisiontree,ebm,lime,linear,notebook,plotly,required,sensitivity,shap,skoperules,treeinterpreter]==0.4.4->interpret) (2.0.1)\n",
      "Requirement already satisfied: zope.interface in /Users/loespieterse/anaconda3/lib/python3.10/site-packages (from gevent>=1.3.6->interpret-core[dash,debug,decisiontree,ebm,lime,linear,notebook,plotly,required,sensitivity,shap,skoperules,treeinterpreter]==0.4.4->interpret) (5.4.0)\n",
      "Collecting zope.event\n",
      "  Downloading zope.event-5.0-py3-none-any.whl (6.8 kB)\n",
      "Requirement already satisfied: pyzmq>=17 in /Users/loespieterse/anaconda3/lib/python3.10/site-packages (from ipykernel>=4.10.0->interpret-core[dash,debug,decisiontree,ebm,lime,linear,notebook,plotly,required,sensitivity,shap,skoperules,treeinterpreter]==0.4.4->interpret) (23.2.0)\n",
      "Requirement already satisfied: jupyter-client>=6.1.12 in /Users/loespieterse/anaconda3/lib/python3.10/site-packages (from ipykernel>=4.10.0->interpret-core[dash,debug,decisiontree,ebm,lime,linear,notebook,plotly,required,sensitivity,shap,skoperules,treeinterpreter]==0.4.4->interpret) (8.1.0)\n",
      "Requirement already satisfied: traitlets>=5.4.0 in /Users/loespieterse/anaconda3/lib/python3.10/site-packages (from ipykernel>=4.10.0->interpret-core[dash,debug,decisiontree,ebm,lime,linear,notebook,plotly,required,sensitivity,shap,skoperules,treeinterpreter]==0.4.4->interpret) (5.7.1)\n",
      "Requirement already satisfied: appnope in /Users/loespieterse/anaconda3/lib/python3.10/site-packages (from ipykernel>=4.10.0->interpret-core[dash,debug,decisiontree,ebm,lime,linear,notebook,plotly,required,sensitivity,shap,skoperules,treeinterpreter]==0.4.4->interpret) (0.1.2)\n",
      "Requirement already satisfied: matplotlib-inline>=0.1 in /Users/loespieterse/anaconda3/lib/python3.10/site-packages (from ipykernel>=4.10.0->interpret-core[dash,debug,decisiontree,ebm,lime,linear,notebook,plotly,required,sensitivity,shap,skoperules,treeinterpreter]==0.4.4->interpret) (0.1.6)\n",
      "Requirement already satisfied: debugpy>=1.0 in /Users/loespieterse/anaconda3/lib/python3.10/site-packages (from ipykernel>=4.10.0->interpret-core[dash,debug,decisiontree,ebm,lime,linear,notebook,plotly,required,sensitivity,shap,skoperules,treeinterpreter]==0.4.4->interpret) (1.5.1)\n",
      "Requirement already satisfied: tornado>=6.1 in /Users/loespieterse/anaconda3/lib/python3.10/site-packages (from ipykernel>=4.10.0->interpret-core[dash,debug,decisiontree,ebm,lime,linear,notebook,plotly,required,sensitivity,shap,skoperules,treeinterpreter]==0.4.4->interpret) (6.2)\n",
      "Requirement already satisfied: comm>=0.1.1 in /Users/loespieterse/anaconda3/lib/python3.10/site-packages (from ipykernel>=4.10.0->interpret-core[dash,debug,decisiontree,ebm,lime,linear,notebook,plotly,required,sensitivity,shap,skoperules,treeinterpreter]==0.4.4->interpret) (0.1.2)\n",
      "Requirement already satisfied: stack-data in /Users/loespieterse/anaconda3/lib/python3.10/site-packages (from ipython>=5.5.0->interpret-core[dash,debug,decisiontree,ebm,lime,linear,notebook,plotly,required,sensitivity,shap,skoperules,treeinterpreter]==0.4.4->interpret) (0.2.0)\n",
      "Requirement already satisfied: jedi>=0.16 in /Users/loespieterse/anaconda3/lib/python3.10/site-packages (from ipython>=5.5.0->interpret-core[dash,debug,decisiontree,ebm,lime,linear,notebook,plotly,required,sensitivity,shap,skoperules,treeinterpreter]==0.4.4->interpret) (0.18.1)\n",
      "Requirement already satisfied: pexpect>4.3 in /Users/loespieterse/anaconda3/lib/python3.10/site-packages (from ipython>=5.5.0->interpret-core[dash,debug,decisiontree,ebm,lime,linear,notebook,plotly,required,sensitivity,shap,skoperules,treeinterpreter]==0.4.4->interpret) (4.8.0)\n",
      "Requirement already satisfied: pickleshare in /Users/loespieterse/anaconda3/lib/python3.10/site-packages (from ipython>=5.5.0->interpret-core[dash,debug,decisiontree,ebm,lime,linear,notebook,plotly,required,sensitivity,shap,skoperules,treeinterpreter]==0.4.4->interpret) (0.7.5)\n",
      "Requirement already satisfied: backcall in /Users/loespieterse/anaconda3/lib/python3.10/site-packages (from ipython>=5.5.0->interpret-core[dash,debug,decisiontree,ebm,lime,linear,notebook,plotly,required,sensitivity,shap,skoperules,treeinterpreter]==0.4.4->interpret) (0.2.0)\n",
      "Requirement already satisfied: decorator in /Users/loespieterse/anaconda3/lib/python3.10/site-packages (from ipython>=5.5.0->interpret-core[dash,debug,decisiontree,ebm,lime,linear,notebook,plotly,required,sensitivity,shap,skoperules,treeinterpreter]==0.4.4->interpret) (5.1.1)\n",
      "Requirement already satisfied: prompt-toolkit!=3.0.37,<3.1.0,>=3.0.30 in /Users/loespieterse/anaconda3/lib/python3.10/site-packages (from ipython>=5.5.0->interpret-core[dash,debug,decisiontree,ebm,lime,linear,notebook,plotly,required,sensitivity,shap,skoperules,treeinterpreter]==0.4.4->interpret) (3.0.36)\n",
      "Requirement already satisfied: pygments>=2.4.0 in /Users/loespieterse/anaconda3/lib/python3.10/site-packages (from ipython>=5.5.0->interpret-core[dash,debug,decisiontree,ebm,lime,linear,notebook,plotly,required,sensitivity,shap,skoperules,treeinterpreter]==0.4.4->interpret) (2.11.2)\n",
      "Requirement already satisfied: tqdm in /Users/loespieterse/anaconda3/lib/python3.10/site-packages (from lime>=0.1.1.33->interpret-core[dash,debug,decisiontree,ebm,lime,linear,notebook,plotly,required,sensitivity,shap,skoperules,treeinterpreter]==0.4.4->interpret) (4.64.1)\n",
      "Requirement already satisfied: scikit-image>=0.12 in /Users/loespieterse/anaconda3/lib/python3.10/site-packages (from lime>=0.1.1.33->interpret-core[dash,debug,decisiontree,ebm,lime,linear,notebook,plotly,required,sensitivity,shap,skoperules,treeinterpreter]==0.4.4->interpret) (0.19.3)\n",
      "Requirement already satisfied: tenacity>=6.2.0 in /Users/loespieterse/anaconda3/lib/python3.10/site-packages (from plotly>=3.8.1->interpret-core[dash,debug,decisiontree,ebm,lime,linear,notebook,plotly,required,sensitivity,shap,skoperules,treeinterpreter]==0.4.4->interpret) (8.0.1)\n",
      "Requirement already satisfied: charset-normalizer<3,>=2 in /Users/loespieterse/anaconda3/lib/python3.10/site-packages (from requests>=2.19.0->interpret-core[dash,debug,decisiontree,ebm,lime,linear,notebook,plotly,required,sensitivity,shap,skoperules,treeinterpreter]==0.4.4->interpret) (2.0.4)\n",
      "Requirement already satisfied: urllib3<1.27,>=1.21.1 in /Users/loespieterse/anaconda3/lib/python3.10/site-packages (from requests>=2.19.0->interpret-core[dash,debug,decisiontree,ebm,lime,linear,notebook,plotly,required,sensitivity,shap,skoperules,treeinterpreter]==0.4.4->interpret) (1.26.14)\n",
      "Requirement already satisfied: idna<4,>=2.5 in /Users/loespieterse/anaconda3/lib/python3.10/site-packages (from requests>=2.19.0->interpret-core[dash,debug,decisiontree,ebm,lime,linear,notebook,plotly,required,sensitivity,shap,skoperules,treeinterpreter]==0.4.4->interpret) (3.4)\n",
      "Requirement already satisfied: certifi>=2017.4.17 in /Users/loespieterse/anaconda3/lib/python3.10/site-packages (from requests>=2.19.0->interpret-core[dash,debug,decisiontree,ebm,lime,linear,notebook,plotly,required,sensitivity,shap,skoperules,treeinterpreter]==0.4.4->interpret) (2023.5.7)\n",
      "Collecting multiprocess\n",
      "  Downloading multiprocess-0.70.15-py310-none-any.whl (134 kB)\n",
      "\u001b[2K     \u001b[90m━━━━━━━━━━━━━━━━━━━━━━━━━━━━━━━━━━━━━━━\u001b[0m \u001b[32m134.8/134.8 kB\u001b[0m \u001b[31m6.0 MB/s\u001b[0m eta \u001b[36m0:00:00\u001b[0m\n",
      "\u001b[?25hCollecting slicer==0.0.7\n",
      "  Downloading slicer-0.0.7-py3-none-any.whl (14 kB)\n",
      "Requirement already satisfied: cloudpickle in /Users/loespieterse/anaconda3/lib/python3.10/site-packages (from shap>=0.28.5->interpret-core[dash,debug,decisiontree,ebm,lime,linear,notebook,plotly,required,sensitivity,shap,skoperules,treeinterpreter]==0.4.4->interpret) (2.0.0)\n",
      "Requirement already satisfied: numba in /Users/loespieterse/anaconda3/lib/python3.10/site-packages (from shap>=0.28.5->interpret-core[dash,debug,decisiontree,ebm,lime,linear,notebook,plotly,required,sensitivity,shap,skoperules,treeinterpreter]==0.4.4->interpret) (0.56.4)\n",
      "Requirement already satisfied: Jinja2>=3.0 in /Users/loespieterse/anaconda3/lib/python3.10/site-packages (from Flask<3.1,>=1.0.4->dash>=1.0.0->interpret-core[dash,debug,decisiontree,ebm,lime,linear,notebook,plotly,required,sensitivity,shap,skoperules,treeinterpreter]==0.4.4->interpret) (3.1.2)\n",
      "Requirement already satisfied: itsdangerous>=2.0 in /Users/loespieterse/anaconda3/lib/python3.10/site-packages (from Flask<3.1,>=1.0.4->dash>=1.0.0->interpret-core[dash,debug,decisiontree,ebm,lime,linear,notebook,plotly,required,sensitivity,shap,skoperules,treeinterpreter]==0.4.4->interpret) (2.0.1)\n",
      "Requirement already satisfied: click>=8.0 in /Users/loespieterse/anaconda3/lib/python3.10/site-packages (from Flask<3.1,>=1.0.4->dash>=1.0.0->interpret-core[dash,debug,decisiontree,ebm,lime,linear,notebook,plotly,required,sensitivity,shap,skoperules,treeinterpreter]==0.4.4->interpret) (8.0.4)\n",
      "Requirement already satisfied: parso<0.9.0,>=0.8.0 in /Users/loespieterse/anaconda3/lib/python3.10/site-packages (from jedi>=0.16->ipython>=5.5.0->interpret-core[dash,debug,decisiontree,ebm,lime,linear,notebook,plotly,required,sensitivity,shap,skoperules,treeinterpreter]==0.4.4->interpret) (0.8.3)\n",
      "Requirement already satisfied: jupyter-core!=5.0.*,>=4.12 in /Users/loespieterse/anaconda3/lib/python3.10/site-packages (from jupyter-client>=6.1.12->ipykernel>=4.10.0->interpret-core[dash,debug,decisiontree,ebm,lime,linear,notebook,plotly,required,sensitivity,shap,skoperules,treeinterpreter]==0.4.4->interpret) (5.2.0)\n",
      "Requirement already satisfied: ptyprocess>=0.5 in /Users/loespieterse/anaconda3/lib/python3.10/site-packages (from pexpect>4.3->ipython>=5.5.0->interpret-core[dash,debug,decisiontree,ebm,lime,linear,notebook,plotly,required,sensitivity,shap,skoperules,treeinterpreter]==0.4.4->interpret) (0.7.0)\n",
      "Requirement already satisfied: wcwidth in /Users/loespieterse/anaconda3/lib/python3.10/site-packages (from prompt-toolkit!=3.0.37,<3.1.0,>=3.0.30->ipython>=5.5.0->interpret-core[dash,debug,decisiontree,ebm,lime,linear,notebook,plotly,required,sensitivity,shap,skoperules,treeinterpreter]==0.4.4->interpret) (0.2.5)\n",
      "Requirement already satisfied: tifffile>=2019.7.26 in /Users/loespieterse/anaconda3/lib/python3.10/site-packages (from scikit-image>=0.12->lime>=0.1.1.33->interpret-core[dash,debug,decisiontree,ebm,lime,linear,notebook,plotly,required,sensitivity,shap,skoperules,treeinterpreter]==0.4.4->interpret) (2021.7.2)\n",
      "Requirement already satisfied: imageio>=2.4.1 in /Users/loespieterse/anaconda3/lib/python3.10/site-packages (from scikit-image>=0.12->lime>=0.1.1.33->interpret-core[dash,debug,decisiontree,ebm,lime,linear,notebook,plotly,required,sensitivity,shap,skoperules,treeinterpreter]==0.4.4->interpret) (2.26.0)\n",
      "Requirement already satisfied: networkx>=2.2 in /Users/loespieterse/anaconda3/lib/python3.10/site-packages (from scikit-image>=0.12->lime>=0.1.1.33->interpret-core[dash,debug,decisiontree,ebm,lime,linear,notebook,plotly,required,sensitivity,shap,skoperules,treeinterpreter]==0.4.4->interpret) (2.8.4)\n",
      "Requirement already satisfied: PyWavelets>=1.1.1 in /Users/loespieterse/anaconda3/lib/python3.10/site-packages (from scikit-image>=0.12->lime>=0.1.1.33->interpret-core[dash,debug,decisiontree,ebm,lime,linear,notebook,plotly,required,sensitivity,shap,skoperules,treeinterpreter]==0.4.4->interpret) (1.4.1)\n",
      "Requirement already satisfied: MarkupSafe>=2.1.1 in /Users/loespieterse/anaconda3/lib/python3.10/site-packages (from Werkzeug<3.1->dash>=1.0.0->interpret-core[dash,debug,decisiontree,ebm,lime,linear,notebook,plotly,required,sensitivity,shap,skoperules,treeinterpreter]==0.4.4->interpret) (2.1.1)\n",
      "Requirement already satisfied: zipp>=0.5 in /Users/loespieterse/anaconda3/lib/python3.10/site-packages (from importlib-metadata->dash>=1.0.0->interpret-core[dash,debug,decisiontree,ebm,lime,linear,notebook,plotly,required,sensitivity,shap,skoperules,treeinterpreter]==0.4.4->interpret) (3.11.0)\n",
      "Collecting dill>=0.2.5\n",
      "  Downloading dill-0.3.7-py3-none-any.whl (115 kB)\n",
      "\u001b[2K     \u001b[90m━━━━━━━━━━━━━━━━━━━━━━━━━━━━━━━━━━━━━━━\u001b[0m \u001b[32m115.3/115.3 kB\u001b[0m \u001b[31m5.2 MB/s\u001b[0m eta \u001b[36m0:00:00\u001b[0m\n",
      "\u001b[?25hRequirement already satisfied: llvmlite<0.40,>=0.39.0dev0 in /Users/loespieterse/anaconda3/lib/python3.10/site-packages (from numba->shap>=0.28.5->interpret-core[dash,debug,decisiontree,ebm,lime,linear,notebook,plotly,required,sensitivity,shap,skoperules,treeinterpreter]==0.4.4->interpret) (0.39.1)\n",
      "Requirement already satisfied: executing in /Users/loespieterse/anaconda3/lib/python3.10/site-packages (from stack-data->ipython>=5.5.0->interpret-core[dash,debug,decisiontree,ebm,lime,linear,notebook,plotly,required,sensitivity,shap,skoperules,treeinterpreter]==0.4.4->interpret) (0.8.3)\n",
      "Requirement already satisfied: pure-eval in /Users/loespieterse/anaconda3/lib/python3.10/site-packages (from stack-data->ipython>=5.5.0->interpret-core[dash,debug,decisiontree,ebm,lime,linear,notebook,plotly,required,sensitivity,shap,skoperules,treeinterpreter]==0.4.4->interpret) (0.2.2)\n",
      "Requirement already satisfied: asttokens in /Users/loespieterse/anaconda3/lib/python3.10/site-packages (from stack-data->ipython>=5.5.0->interpret-core[dash,debug,decisiontree,ebm,lime,linear,notebook,plotly,required,sensitivity,shap,skoperules,treeinterpreter]==0.4.4->interpret) (2.0.5)\n",
      "Requirement already satisfied: platformdirs>=2.5 in /Users/loespieterse/anaconda3/lib/python3.10/site-packages (from jupyter-core!=5.0.*,>=4.12->jupyter-client>=6.1.12->ipykernel>=4.10.0->interpret-core[dash,debug,decisiontree,ebm,lime,linear,notebook,plotly,required,sensitivity,shap,skoperules,treeinterpreter]==0.4.4->interpret) (2.5.2)\n",
      "Building wheels for collected packages: gevent, lime\n",
      "  Building wheel for gevent (pyproject.toml) ... \u001b[?25ldone\n",
      "\u001b[?25h  Created wheel for gevent: filename=gevent-23.9.1-cp310-cp310-macosx_10_9_x86_64.whl size=1733188 sha256=90b259679d7af1cbfb0e964c3797849a7405c1c3fa38fc00ef3065fceb9da051\n",
      "  Stored in directory: /Users/loespieterse/Library/Caches/pip/wheels/94/12/9a/85a576bddb6be40651792a8469c211fc264763f17b1e0603d6\n",
      "  Building wheel for lime (setup.py) ... \u001b[?25ldone\n",
      "\u001b[?25h  Created wheel for lime: filename=lime-0.2.0.1-py3-none-any.whl size=283839 sha256=0e3b9cd9aeee249df22e155a6b185568643fbf2d38befc0abd0ba3036a109fb1\n",
      "  Stored in directory: /Users/loespieterse/Library/Caches/pip/wheels/ac/fc/ba/bc2e218408e730b7ad32dc45fbaa1ae6f0ab314e581101bdff\n",
      "Successfully built gevent lime\n",
      "Installing collected packages: treeinterpreter, interpret-core, dash-table, dash-html-components, dash-core-components, zope.event, slicer, retrying, dill, ansi2html, multiprocess, gevent, skope-rules, shap, SALib, lime, dash, dash-cytoscape, interpret\n",
      "  Attempting uninstall: dill\n",
      "    Found existing installation: dill 0.3.6\n",
      "    Uninstalling dill-0.3.6:\n",
      "      Successfully uninstalled dill-0.3.6\n",
      "Successfully installed SALib-1.4.7 ansi2html-1.8.0 dash-2.14.1 dash-core-components-2.0.0 dash-cytoscape-0.3.0 dash-html-components-2.0.0 dash-table-5.0.0 dill-0.3.7 gevent-23.9.1 interpret-0.4.4 interpret-core-0.4.4 lime-0.2.0.1 multiprocess-0.70.15 retrying-1.3.4 shap-0.43.0 skope-rules-1.0.1 slicer-0.0.7 treeinterpreter-0.2.3 zope.event-5.0\n"
     ]
    }
   ],
   "source": [
    "# Installing packages\n",
    "!pip install graphviz\n",
    "!pip install matplotlib pandas numpy statsmodels interpret scikit-learn openpyxl"
   ]
  },
  {
   "cell_type": "markdown",
   "metadata": {
    "id": "HeSC0_WEpY0k"
   },
   "source": [
    "## Downloading the data\n",
    "We are going to use the combined cycle power plant dataset. This dataset contains 9568 data points collected from a Combined Cycle Power Plant over 6 years (2006-2011), when the power plant was set to work with full load. We have the following features: hourly average ambient variables Temperature (T), Ambient Pressure (AP), Relative Humidity (RH) and Exhaust Vacuum (V). We will train ML models to predict the net hourly electrical energy output (EP) of the plant.\n",
    "\n",
    "For a detailed description, see: [[Description](https://archive.ics.uci.edu/ml/datasets/combined+cycle+power+plant)]\n",
    "\n",
    "We first need to download and prepare data. \n"
   ]
  },
  {
   "cell_type": "code",
   "execution_count": 13,
   "metadata": {
    "id": "fleSmPrE7UMT"
   },
   "outputs": [
    {
     "name": "stdout",
     "output_type": "stream",
     "text": [
      "zsh:1: command not found: wget\n",
      "Archive:  CCPP.zip\n",
      "   creating: CCPP/\n",
      "  inflating: CCPP/Folds5x2_pp.ods    \n",
      "  inflating: CCPP/Folds5x2_pp.xlsx   \n",
      "  inflating: CCPP/Readme.txt         \n",
      "  inflating: CCPP/Readme.txt~        \n"
     ]
    }
   ],
   "source": [
    "# Download and unzip data\n",
    "\n",
    "# Windows users: download the data from https://archive.ics.uci.edu/ml/machine-learning-databases/00294/CCPP.zip\n",
    "# and unzip the file manually in the same folder as the python notebook\n",
    "\n",
    "# Note: this cell works fine on Linux based systems and Google Colab\n",
    "# If you run it on a Windows machine, you will get an error (...'wget' is not recognized as an internal or external command...)\n",
    "!wget -c https://archive.ics.uci.edu/ml/machine-learning-databases/00294/CCPP.zip\n",
    "!unzip CCPP.zip"
   ]
  },
  {
   "cell_type": "markdown",
   "metadata": {
    "id": "PQpW5C3Sg9YA"
   },
   "source": [
    "## Loading and preprocessing the data\n",
    "We split the data into training (first 5000 instances) and validation (the subsequent 2000) and test (the last 2568) sets. We will use the training set to train a model, and validation set to optimize the model hyper-parameters. \n"
   ]
  },
  {
   "cell_type": "code",
   "execution_count": 14,
   "metadata": {
    "id": "JycjPmn_7p41"
   },
   "outputs": [],
   "source": [
    "# Load and prepare data\n",
    "import numpy as np\n",
    "import pandas as pd\n",
    "from sklearn.preprocessing import StandardScaler\n",
    "\n",
    "# global variables\n",
    "DATA_FILENAME = 'CCPP/Folds5x2_pp.xlsx'\n",
    "FEATURE_NAMES = ['AT', 'V', 'AP', 'RH']\n",
    "LABEL_NAME = 'PE'\n",
    "# Load the data from the excel file\n",
    "def load_data():\n",
    "    def split_feature_label(data_set):\n",
    "        features = data_set[FEATURE_NAMES]\n",
    "        labels = data_set[LABEL_NAME]\n",
    "        return features, labels\n",
    "\n",
    "    data = pd.read_excel(DATA_FILENAME)\n",
    "    train_set, dev_set, test_set = data[:5000], data[5000: 7000], data[7000:]\n",
    "\n",
    "    train_features, train_labels = split_feature_label(train_set)\n",
    "    dev_features, dev_labels = split_feature_label(dev_set)\n",
    "    test_features, test_labels = split_feature_label(test_set)\n",
    "\n",
    "    return train_features, train_labels, dev_features, \\\n",
    "        dev_labels, test_features, test_labels\n",
    "\n",
    "\n",
    "# preprocess (by z-normalization) the data for the regression task\n",
    "# return the normalized feature sets and corresponding target variables \n",
    "def prepare_load_regression_data():\n",
    "    train_features, train_labels, dev_features, \\\n",
    "        dev_labels, test_features, test_labels = load_data()\n",
    "\n",
    "    scaler = StandardScaler()\n",
    "    scaler = scaler.fit(train_features)\n",
    "    train_features = pd.DataFrame(data=scaler.transform(train_features), columns=FEATURE_NAMES)\n",
    "    dev_features = pd.DataFrame(data=scaler.transform(dev_features), columns=FEATURE_NAMES)\n",
    "    test_features = pd.DataFrame(data=scaler.transform(test_features), columns=FEATURE_NAMES)\n",
    "\n",
    "    return train_features, train_labels, dev_features, \\\n",
    "        dev_labels, test_features, test_labels\n",
    "\n"
   ]
  },
  {
   "cell_type": "markdown",
   "metadata": {
    "id": "QabF2JOdMTI4"
   },
   "source": [
    "## Training and Interpreting a Linear Regression Model\n",
    "\n",
    "**Q1**. (10)% Train a linear regression model (we recommend the statsmodels package) and report $R^2$ (goodness of fit) statistic. \n",
    "\n",
    "For model interpretability, provide for each feature (+ the bias variable) the following in tabular format: \n",
    "* Weight estimates\n",
    "* SE (standard error of estimates) \n",
    "* T statistics \n",
    "\n",
    "\n",
    "Further Questions regarding the linear model (answers to be included in the notebook): \n",
    "\n",
    "**Q2**. (10%) Which three features are the most important?\n",
    "\n",
    "**Q3**. (10%) How does the gas turbine energy yield (EP) change with unit (one degree C) increase of the ambient temperature given that all other feature values remain the same? (Note: Here you should consider whether you use the original or z-normalized features to train your linear model.)\n",
    "\n",
    "**Q4**. (10%) Show bar graph illustrations of the feature effects for the first two development set instances."
   ]
  },
  {
   "cell_type": "code",
   "execution_count": 63,
   "metadata": {
    "id": "B91BszFhMStw"
   },
   "outputs": [
    {
     "name": "stdout",
     "output_type": "stream",
     "text": [
      "R-squared: 0.9294\n",
      "                            OLS Regression Results                            \n",
      "==============================================================================\n",
      "Dep. Variable:                     PE   R-squared:                       0.929\n",
      "Model:                            OLS   Adj. R-squared:                  0.929\n",
      "Method:                 Least Squares   F-statistic:                 1.644e+04\n",
      "Date:                Sun, 29 Oct 2023   Prob (F-statistic):               0.00\n",
      "Time:                        20:57:45   Log-Likelihood:                -14635.\n",
      "No. Observations:                5000   AIC:                         2.928e+04\n",
      "Df Residuals:                    4995   BIC:                         2.931e+04\n",
      "Df Model:                           4                                         \n",
      "Covariance Type:            nonrobust                                         \n",
      "==============================================================================\n",
      "                 coef    std err          t      P>|t|      [0.025      0.975]\n",
      "------------------------------------------------------------------------------\n",
      "const        454.4443      0.064   7108.416      0.000     454.319     454.570\n",
      "AT           -14.8080      0.156    -95.152      0.000     -15.113     -14.503\n",
      "V             -2.8534      0.127    -22.543      0.000      -3.102      -2.605\n",
      "AP             0.3820      0.077      4.948      0.000       0.231       0.533\n",
      "RH            -2.4247      0.083    -29.185      0.000      -2.588      -2.262\n",
      "==============================================================================\n",
      "Omnibus:                      498.725   Durbin-Watson:                   2.030\n",
      "Prob(Omnibus):                  0.000   Jarque-Bera (JB):             2485.693\n",
      "Skew:                          -0.355   Prob(JB):                         0.00\n",
      "Kurtosis:                       6.380   Cond. No.                         4.85\n",
      "==============================================================================\n",
      "\n",
      "Notes:\n",
      "[1] Standard Errors assume that the covariance matrix of the errors is correctly specified.\n"
     ]
    }
   ],
   "source": [
    "# We recommend the statsmodels package\n",
    "import statsmodels.api as sm\n",
    "# Hint, by default this sm does not include the bias/offset term w_0\n",
    "# thus, you should add it yourself using sm.add_constant()\n",
    "\n",
    "# Linear regression\n",
    "# Get the preprocessed data for linear regression modeling\n",
    "(train_features, train_labels, dev_features, \\\n",
    "        dev_labels, test_features, test_labels) = prepare_load_regression_data()\n",
    "\n",
    "# Add a constant (bias) term to the feature matrix\n",
    "train_features = sm.add_constant(train_features)\n",
    "dev_features = sm.add_constant(dev_features)\n",
    "test_features = sm.add_constant(test_features)\n",
    "\n",
    "model = sm.OLS(train_labels, train_features).fit()\n",
    "\n",
    "r_squared = model.rsquared\n",
    "print(f\"R-squared: {r_squared:.4f}\")\n",
    "\n",
    "summary = model.summary()\n",
    "print(summary)\n"
   ]
  },
  {
   "cell_type": "code",
   "execution_count": 65,
   "metadata": {},
   "outputs": [
    {
     "name": "stdout",
     "output_type": "stream",
     "text": [
      "De 3 belangrijkste features:\n",
      "const    454.444328\n",
      "AT        14.807970\n",
      "V          2.853379\n",
      "dtype: float64\n"
     ]
    }
   ],
   "source": [
    "# Voor vraag 2: de 3 belangrijkste features krijgen:\n",
    "belangrijkheid = model.params.abs().sort_values(ascending=False) # oplopende rij gezet welke features het belangrijkste zijn op basis van absolute waardes van laag naar hoog\n",
    "belangrijkste_features = belangrijkheid.head(3) #hoogste 3 absolute waardes\n",
    "print(\"De 3 belangrijkste features:\")\n",
    "print(belangrijkste_features)"
   ]
  },
  {
   "cell_type": "code",
   "execution_count": 70,
   "metadata": {},
   "outputs": [
    {
     "name": "stdout",
     "output_type": "stream",
     "text": [
      "Change in EP with a one-degree increase in AT: -14.8080\n"
     ]
    }
   ],
   "source": [
    "# Voor vraag 3\n",
    "temperatuur_coefficient = model.params['AT'] # Coëfficiënt van de AT feature\n",
    "ep_verandering = temperatuur_coefficient * 1 # De temperatuur opschalen met 1 graad\n",
    "print(f\"Change in EP with a one-degree increase in AT: {ep_verandering:.4f}\")\n"
   ]
  },
  {
   "cell_type": "code",
   "execution_count": 71,
   "metadata": {},
   "outputs": [
    {
     "data": {
      "image/png": "[encoded data removed]",
      "text/plain": [
       "<Figure size 640x480 with 1 Axes>"
      ]
     },
     "metadata": {},
     "output_type": "display_data"
    },
    {
     "data": {
      "image/png": "[encoded data removed]",
      "text/plain": [
       "<Figure size 640x480 with 1 Axes>"
      ]
     },
     "metadata": {},
     "output_type": "display_data"
    }
   ],
   "source": [
    "#voor vraag 4:\n",
    "import matplotlib.pyplot as plt\n",
    "\n",
    "eerste_2 = dev_features.iloc[:2] #eerste 2 development samples van de dev_features dataset\n",
    "voorspellingen = model.predict(eerste_2) #voorspelde waarden van de eerste 2 met de training data \n",
    "\n",
    "for i, sample in enumerate(eerste_2.index): #voor beide instances en hun index plotten\n",
    "    plt.bar(FEATURE_NAMES, model.params.values[1:], yerr=model.bse.values[1:]) #vanaf het tweede element omdat de eerste de intercept is, standaardfouten meegenomen (bse)\n",
    "    plt.title(f\"Feature effects for development sample {sample + 1}\")\n",
    "    plt.xlabel(\"Feature\")\n",
    "    plt.ylabel(\"Effect\")\n",
    "    plt.show()"
   ]
  },
  {
   "cell_type": "markdown",
   "metadata": {
    "id": "5tj6Pri4HBeO"
   },
   "source": [
    "**Q5.** (10%) Reflection: why would training a regression tree not work well for this dataset in terms of model interpretability? (answer in the notebook)"
   ]
  },
  {
   "cell_type": "markdown",
   "metadata": {},
   "source": [
    "This could be due to multible factors: regression trees do not work well with very complex, non linear, relationships. This model might be too complex. Another reason could be because a regression tree splits data into binary decisions at certain tresholds, which makes it hard to see how small changes is features might affect the target. A regression tree is also very sensitive to overfitting."
   ]
  },
  {
   "cell_type": "markdown",
   "metadata": {
    "id": "k7r09mMfeo2k"
   },
   "source": [
    "## Training and Interpreting an Explainable Boosting Model (Generalized Additive Model)\n",
    "**Q6**. (10%) Train a Explainable Boosting Machine (with [interpret.ml](https://github.com/interpretml/interpret/))\n",
    "\n",
    "(Note on grading: Training EBM 4%, global and local explanation visualizations - see below -  3% each)\n",
    "\n",
    "For a tutorial see: [[Tutorial](https://nbviewer.org/github/interpretml/interpret/blob/master/examples/python/notebooks/Interpretable%20Regression%20Methods.ipynb)]\n",
    "\n",
    "\n",
    "* (3%) Visualize/provide global (model-wise) feature importances for EBM as a table or figure. What are the most important two features in EBM? Are they the same as in the linear model? \n",
    "* (3%) Visualize local (instance-wise) feature importances for a development set instance of your choice.\n"
   ]
  },
  {
   "cell_type": "code",
   "execution_count": null,
   "metadata": {
    "id": "u-ZmqpxweoZv"
   },
   "outputs": [],
   "source": [
    "from interpret.glassbox import ExplainableBoostingRegressor\n",
    "\n",
    "# EBM"
   ]
  },
  {
   "cell_type": "markdown",
   "metadata": {
    "id": "_k7dAwTIfbsc"
   },
   "source": [
    "## Training and Explaining Neural Networks\n",
    "**Q7**. (10%) Train a Neural Network (using the training and validation sets): One-layer MLP (with ReLU activation function and 50 to 100 hidden neurons) \n",
    "\n",
    "We recommend to use the Adam optimizer. Fine-tune the learning rate and any other hyper-parameters you find necessary. \n",
    "\n",
    "For a tutorial see: [[Tutorial](https://scikit-learn.org/stable/modules/neural_networks_supervised.html)]\n",
    "\n",
    "Your code should report the results following the instructions below:\n",
    "\n",
    "Note on grading: training NN: 4%, answering below sub-questions 3% each.\n",
    "\n",
    "* (3%) Apply the trained neural network model on the test set and report Root Mean Square Error (RMSE) performance measure.\n",
    "\n",
    "* (3%) Analyzing factors influencing the neural network predictions. \n",
    "See the [Documentation](https://scikit-learn.org/stable/modules/partial_dependence.html) to use Partial Dependence Plot (PDP)  implementation in python. Use the trained one-layer MLP model to  Generate and report a bivariate PDP using 'AT' (Ambient Temperature) and 'V' (Exhaust Vacuum) features (Note: not two univariate PDPs but one bivariate PDP).\n"
   ]
  },
  {
   "cell_type": "code",
   "execution_count": null,
   "metadata": {
    "id": "qQjg_qtCf_WD"
   },
   "outputs": [],
   "source": [
    "from sklearn.neural_network import MLPRegressor\n",
    "from sklearn.metrics import mean_squared_error\n",
    "from sklearn.inspection import PartialDependenceDisplay\n",
    "\n",
    "# One-layer MLP : you can use  learning_rate_init=0.001 to get a reasonable model, optimize other parameters by experimentation\n",
    "# We advice that you name variable for the mlp regressor model 'mlp_reg' so that it will be consistent \n",
    "# with the scripts to call your implementation of PFI later in Q8:\n",
    "mlp_reg= # ... your scripts here and below"
   ]
  },
  {
   "cell_type": "markdown",
   "metadata": {},
   "source": [
    "### Generating Model-Agnostic Global Explanations for NN predictions\n",
    "\n",
    "**Permutation Feature Importance (PFI)**\n",
    "\n",
    "**Q8**. (20%) Implement the permutation feature importance algorithm using RMSE as the error function (%12). No existing libraries (save measuring RMSE) are allowed to use. We will implement it ourselves.\n",
    "- (%4) Visualize feature importances obtained by PFI for the NN (one-layer MLP) model you trained using a bar graph.\n",
    "- (%4) Reflection: What are the most important two features obtained by PFI for MLP model? How do these two features compare to the top two features from the Linear Model and the EBM?"
   ]
  },
  {
   "cell_type": "code",
   "execution_count": null,
   "metadata": {},
   "outputs": [],
   "source": [
    "# Use the below function signature and the parameters to implement PFI\n",
    "def PFI(X, labels, model, rmse):\n",
    "# Your scripts implementing PFI here\n",
    "\n",
    "\n",
    "\n",
    "\n",
    "# Do not modify this part (unless you change the variable name mlp_reg above)\n",
    "base_rmse = mean_squared_error(dev_labels, mlp_reg.predict(dev_features) , squared=False)\n",
    "results_df = PFI(dev_features, dev_labels, mlp_reg, base_rmse)"
   ]
  },
  {
   "cell_type": "code",
   "execution_count": null,
   "metadata": {},
   "outputs": [],
   "source": [
    "# Your scripts to visualize results_df using a bar graph here\n"
   ]
  },
  {
   "cell_type": "markdown",
   "metadata": {
    "id": "vpGv6J6XlBQ4"
   },
   "source": [
    "### Generating Model-Agnostic Explanations for NN predictions\n",
    "You can check the tutorials for LIME explanations for neural networks \n",
    "[[LIME Tutorial](https://nbviewer.org/github/interpretml/interpret/blob/develop/examples/python/Explaining_Blackbox_Regressors.ipynb)]\n",
    "\n",
    "\n",
    "**Q9**. (10%) Provide LIME-based explanations for trained NN model's predictions on two randomly selected test set instances.  "
   ]
  },
  {
   "cell_type": "code",
   "execution_count": null,
   "metadata": {
    "id": "dIo-o_lClJYQ"
   },
   "outputs": [],
   "source": [
    "# Global explanations\n",
    "import graphviz\n",
    "from interpret import show\n",
    "\n",
    "# Local explanations (LIME)\n",
    "from interpret.blackbox import LimeTabular\n"
   ]
  }
 ],
 "metadata": {
  "colab": {
   "collapsed_sections": [],
   "provenance": [],
   "toc_visible": true
  },
  "kernelspec": {
   "display_name": "Python 3 (ipykernel)",
   "language": "python",
   "name": "python3"
  },
  "language_info": {
   "codemirror_mode": {
    "name": "ipython",
    "version": 3
   },
   "file_extension": ".py",
   "mimetype": "text/x-python",
   "name": "python",
   "nbconvert_exporter": "python",
   "pygments_lexer": "ipython3",
   "version": "3.10.9"
  }
 },
 "nbformat": 4,
 "nbformat_minor": 1
}
